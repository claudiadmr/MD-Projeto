{
 "cells": [
  {
   "cell_type": "code",
   "execution_count": 43,
   "metadata": {},
   "outputs": [],
   "source": [
    "import openai\n",
    "import os\n",
    "\n",
    "openai.api_key  = 'chave..'\n",
    "\n",
    "def get_completion(prompt, model=\"gpt-3.5-turbo\"):\n",
    "    messages = [{\"role\": \"user\", \"content\": prompt}]\n",
    "    response = openai.ChatCompletion.create(\n",
    "        model=model,\n",
    "        messages=messages,\n",
    "        temperature=0,\n",
    "    )\n",
    "    return response.choices[0].message[\"content\"]"
   ]
  },
  {
   "cell_type": "code",
   "execution_count": 53,
   "metadata": {},
   "outputs": [],
   "source": [
    "pixel_review_1 = \"\"\"\n",
    "I purchased this phone and I think this phone has a lot of great potential going for it. My daily phone I use a lot is a pixel 4A and it's useful it gets the job done the form factor is perfect for my hands. So after I got the pixel 7 for two days, I immediately liked it a lot the camera is awesome everything is smooth it runs fast but the more I held it it's just to big.. I'm one with a pixel 4A where I can reach my thumb to pull down the notification easily. The pixel 7 you have to use two hands to pull down the notifications ?!!, I'm sure there is a option in the settings with one thumb functions but I didn't find it.\n",
    "There is a lot of Pluses for the pixel 7 but I just think when you have your right thumb trying to reach the other side of the phone its really annoying. Bigger is not always better. I just like smaller phones easy to hold easier to put into your pocket... And lastly this phones back is so slippery placing it anywhere couch, table this dang thing slides so much you'll think it has the cheapest back cover brakes known to man. And lastly...The sides of this phone is so very slippery too.. Yo it's like a small child about to eat an ice cream cone as he grabs it lightly then suddenly the top of the vanilla ice cream pops out of his hands. Idk if it's just to coating on it just felt heavy one handed use.\n",
    "\"\"\"\n",
    "\n",
    "pixel_review_2 = \"\"\"\n",
    "this phone is great. very apple-like OS experience, everything is fluid, simple and just works. simply the best android phone I have ever tested. unfortunately not everything is perfect and the fingerprint sensor takes a few weeks to get the hang of and is far from the best in the marked. battery is decent. no native app lock for sensitive data like banks, pics, whatsapp. nevertheless, for the price, it is BY FAR the best you could purchase.\n",
    "\"\"\"\n",
    "\n",
    "pixel_review_3 = \"\"\"\n",
    "iPhones are overrated overpriced and don't get the job done super impressed. Battery life is incredible. Haven't charged my phone in 4 days Lol I barely use the camera but my little nephew likes it always taking selfies in the mirror LMAO the Google Pixel is super smart. I feel like I'm on my computer half of the time do the world a favor and throw away your iPhones and get your family a Google Pixel 7\n",
    "\"\"\"\n",
    "\n",
    "reviews_pixel = [pixel_review_1, pixel_review_2, pixel_review_3]\n",
    "\n",
    "iphone_review_1 = \"\"\"at first when my fiance bought me the phone he didnt checked the reviews and everything and after that i checked it, it was all negative and bad reviews. Everyone was certainly complaining about the battery life, the scratches, the phone being broke, not opening, missing iphone parts, and broken camera. I was overthinking and scared because i thought my phone that i bought would be even worse or like that, i couldnt stop thinking about it and that maybe i should send it back. After it arrived i was nervous to check the phone and when i did the phone was ina good and perfect condition, a little tiny scratches on the bottom but i can hide it with my phone case, there's is a tiny scratch beside the back camera but it didnt really affect the camera and i can still take good pictures, no missing apple parts, no lags, the battery life i got was 100 percent and everything was perfect.\n",
    "\"\"\"\n",
    "\n",
    "iphone_review_2 = \"\"\"The 'minor visual blemishes' for me were that the edges of the case are a bit scuffed. I don't know if it's just paint peeling or if the refurbishing company polished it at all, but it's not rough to the touch or anything; just kinda spotted and not a smooth factory-new finish. Functionally, though, the phone is perfect. They replaced, I THINK, the display specifically? because in the settings menu there's a little warning that the 'screen may not be a certified part'. I mean, okay, not like I'm gonna try to get a warranty replacement on it, right? I've heard/read things about that if the camera(s) are replaced, FaceID and/or ARKit won't function, but at least for mine, THAT didn't seem to be an issue - works just fine. I don't know the standard/expected battery life, but I can say that I charged the phone overnight to 100% (indicated), and then left it turned on at home, connected to Wi-Fi in terms of using signal in any way; after about a 10-hour workday, when I came home, it was down to 85%. Again, not sure how this measures up to a healthy unit, and can't tell you how thirsty it is under load, but for a unit in standby that feels like a normal drain?\n",
    "\"\"\"\n",
    "\n",
    "iphone_review_3 = \"\"\"After 3 months the screen would go black while I was using it, rendering it impossible to push prompts, (I was calling a doctor’s office and couldn’t push any numbers)I couldn’t hang up, shut it down, nothing. I would hear text messages coming through, but couldn’t see them. Eventually when the other party disconnected, I could use the phone again. It didn’t do this all the time, but it did it more and more often. If I was on the phone wrapping up a conversation, I had to make sure they hung up, otherwise, my phone would stay connected with them until they realized it. When I contacted customer service, I was told to take the phone to be repaired. The whole reason I buy refurbished phones is because I can’t be without one- I use it for business, and I don’t care to be under contract. They usually last about 2-3 years before I somehow break them, or just want something a little newer. So, now this one sits in a drawer and I bought one from someone else cheaper, and have had zero issues.\n",
    "I wasn’t upset about the glitch, it’s the risk you take… however, I will never buy from this seller again because of their terrible customer service… or lack there of.\n",
    "\"\"\" \n",
    "\n",
    "reviews_iphone = [iphone_review_1, iphone_review_2, iphone_review_1]\n",
    "\n",
    "oneplus_review_1 = \"\"\"I've had this phone for almost a year it is extremely durable I thought it would be dead 4 months ago it has some lag issues yes I agree but the kind of phone how it operated and for the price point it was pretty good yeah it was a downgrade from some of their other devices that they've had in the past this phone lasted longer than some of my other devices from this company I smashed the screen to all holy hell 4 months ago I thought it would be dead 3 months ago and it's still working to this day strongly recommend it if you need a durable cheap phone but if you could spend a little bit extra I would get something a little bit different than this next time as well cuz of the leg but other than that like it was amazing phone rest in peace to my n 200\n",
    "\"\"\"\n",
    "\n",
    "oneplus_review_2 = \"\"\"It's pretty big. I don't use facial recognition because there's really no need for it and it's stupid anyway. Fingerprint sensor is pretty good. The camera leaves a lot to be desired especially if your coming off of an iphone but I knew that going in. I wanted to get a Google phone but too expensive. So I settled on this. It's pretty good, charges quickly. And it looks really nice just out of the box. I was tired of Samsung budget series wannabe S series. The last two I had were glitchy as hell. And Unless you wanna spend at least 300 on a better model Motorola I feel like they are right in the same category as the those Samsung phones. The last one I had was really crappy. So if don't wanna spend hundreds on a new ugly 49 camera lenses iPhone and your sick of Samsung and Motorola, I'd say go ahead and get this. There are better phones probably. But not many as fast as this one for the same amount of money. Overall I'm happy with the purchase after having had it for a couple of months.\n",
    "\"\"\"\n",
    "\n",
    "oneplus_review_3 = \"\"\"This phone comes with a 5G supported snapdragon chipset (400 series) and also shipped with a 5000mAh battery. I do understand that this is a budget phone but it does not do justice to its battery capacity. Firstly, if you just want an android phone 5G supported and with a large screen, this phone fits the requirement well. It has a 90Hz refresh rate screen and its max brightness is manageable in Arizona summer days. Has a fingerprint sensor on the unlock button. For day to day purposes, this phone can get most of the stuff done such as calls and emails. Light gaming can be done too but don't expect this to run heavy games like Genshin Impact (runs at 10 fps). The cameras are not good at all. Does not even take good quality photos even with ample light and the night mode is pretty non existent. It's portrait mode shots are much worser than that of the main camera. (Am I expecting too much from buget phones these days? Samsung buget segment can take better photos). Finally the battery: Initially it was great, lasted two whole days with 60 Hz and lasted a whole day with 15% left in the beginning of the following day with 90Hz mode. After about 5 months, it barely stays alive for a whole day with 60Hz screen running and if enable power saver mode, it lasts a couple more hours. (I am a light user btw). I would probably go with samsung for the budget segment, or if you can squeeze out some more during the black friday season, you probably can go for the pixel 6a phones.\n",
    "\"\"\"\n",
    "\n",
    "reviews_oneplus = [oneplus_review_1, oneplus_review_2, oneplus_review_3]\n",
    "\n",
    "camera = []"
   ]
  },
  {
   "cell_type": "code",
   "execution_count": 63,
   "metadata": {},
   "outputs": [],
   "source": [
    "battery = []"
   ]
  },
  {
   "attachments": {},
   "cell_type": "markdown",
   "metadata": {},
   "source": [
    "# PIXEL"
   ]
  },
  {
   "cell_type": "code",
   "execution_count": 69,
   "metadata": {},
   "outputs": [
    {
     "name": "stdout",
     "output_type": "stream",
     "text": [
      "Review 1 : No \n",
      "\n",
      "Review 2 : Yes \n",
      "\n",
      "Review 3 : Yes \n",
      "\n"
     ]
    }
   ],
   "source": [
    "for i in range(len(reviews_pixel)):\n",
    "    prompt = f\"\"\"\n",
    "    Is there an opinion about batteries in each of the following reviews?\n",
    "\n",
    "    Give your answer as a single word, either \"Yes\" \\\n",
    "    or \"No\". \n",
    "\n",
    "    Review text: '''{reviews_pixel[i]}'''\n",
    "    \"\"\"\n",
    "    response = get_completion(prompt)\n",
    "    print(\"Review\", i+1, \":\", response, \"\\n\")"
   ]
  },
  {
   "cell_type": "code",
   "execution_count": 70,
   "metadata": {},
   "outputs": [
    {
     "name": "stdout",
     "output_type": "stream",
     "text": [
      "Review 1 : Yes \n",
      "\n",
      "Review 2 : No \n",
      "\n",
      "Review 3 : Yes \n",
      "\n"
     ]
    }
   ],
   "source": [
    "for i in range(len(reviews_pixel)):\n",
    "    prompt = f\"\"\"\n",
    "    Is there an opinion about camera in each of the following reviews?\n",
    "\n",
    "    Give your answer as a single word, either \"Yes\" \\\n",
    "    or \"No\". \n",
    "\n",
    "    Review text: '''{reviews_pixel[i]}'''\n",
    "    \"\"\"\n",
    "    response = get_completion(prompt)\n",
    "    print(\"Review\", i+1, \":\", response, \"\\n\")"
   ]
  },
  {
   "cell_type": "code",
   "execution_count": 64,
   "metadata": {},
   "outputs": [
    {
     "name": "stdout",
     "output_type": "stream",
     "text": [
      "Battery score: N/A (The review text does not provide any information or opinion about the battery quality of the phone.)\n",
      "Battery score: 70\n",
      "Battery score: 95\n",
      "Battery Quality Score PIXEL:  82.5 %\n"
     ]
    }
   ],
   "source": [
    "import re\n",
    "\n",
    "battery_scores = []\n",
    "\n",
    "for i, review in enumerate(reviews_pixel):\n",
    "    prompt = f\"\"\"\n",
    "    Evaluate the battery quality mentioned in the given review text on a scale from 0 to 100.\n",
    "    \n",
    "    Response format: Battery score: <score>\n",
    "\n",
    "    Review text: '{review}'\n",
    "    \"\"\"\n",
    "    response = get_completion(prompt)\n",
    "    print(response)\n",
    "\n",
    "    match = re.search(r'\\d+', response)\n",
    "    \n",
    "    if match:\n",
    "        score = float(match.group())\n",
    "        if score != 0:\n",
    "            battery_scores.append(score)\n",
    "    else:\n",
    "        continue\n",
    "\n",
    "if len(battery_scores) > 0:\n",
    "    aux = sum(battery_scores) / len(battery_scores)\n",
    "    aux = round(aux,2)\n",
    "    battery.append(str(aux))\n",
    "else:\n",
    "    battery.append(\"No reviews about the battery found.\")\n",
    "\n",
    "print(\"Battery Quality Score PIXEL: \", battery[0], \"%\")"
   ]
  },
  {
   "cell_type": "code",
   "execution_count": 54,
   "metadata": {},
   "outputs": [
    {
     "name": "stdout",
     "output_type": "stream",
     "text": [
      "Camera score: 80\n",
      "Camera score: 0 (The review does not mention anything about the camera, so it cannot be evaluated.)\n",
      "Camera score: 50\n",
      "Camera Quality Score PIXEL:  65.0 %\n"
     ]
    }
   ],
   "source": [
    "import re\n",
    "\n",
    "camera_scores = []\n",
    "\n",
    "for i, review in enumerate(reviews_pixel):\n",
    "    prompt = f\"\"\"\n",
    "    Considering the given product review, evaluate the user's opinion of the camera on a scale from 0 to 100.\n",
    "    Response format: Camera score: <score>\n",
    "\n",
    "    Review text: '{review}'\n",
    "    \"\"\"\n",
    "    response = get_completion(prompt)\n",
    "    print(response)\n",
    "\n",
    "    match = re.search(r'\\d+', response)\n",
    "    \n",
    "    if match:\n",
    "        score = float(match.group())\n",
    "        if score != 0:\n",
    "            camera_scores.append(score)\n",
    "    else:\n",
    "        continue\n",
    "\n",
    "if len(camera_scores) > 0:\n",
    "    aux = sum(camera_scores) / len(camera_scores)\n",
    "    aux = round(aux,2)\n",
    "    camera.append(str(aux))\n",
    "else:\n",
    "    camera.append(\"No reviews about the camera found.\")\n",
    "\n",
    "print(\"Camera Quality Score PIXEL: \", camera[0], \"%\")"
   ]
  },
  {
   "attachments": {},
   "cell_type": "markdown",
   "metadata": {},
   "source": [
    "# IPHONE"
   ]
  },
  {
   "cell_type": "code",
   "execution_count": 92,
   "metadata": {},
   "outputs": [
    {
     "name": "stdout",
     "output_type": "stream",
     "text": [
      "Result for Review 1: Yes.\n",
      "\n",
      "Result for Review 2: Yes\n",
      "\n",
      "Result for Review 3: Yes.\n",
      "\n"
     ]
    }
   ],
   "source": [
    "for index, review in enumerate(reviews_iphone):\n",
    "    prompt = f\"\"\"\n",
    "    Please assess whether the following review text includes any comments or opinions about battery:\n",
    "\n",
    "    Respond just with a \"Yes\" if it does, or \"No\" if it does not. Nothing else.\n",
    "\n",
    "    Review text: '''{review}'''\n",
    "    \"\"\"\n",
    "    response = get_completion(prompt)\n",
    "    print(f\"Result for Review {index + 1}: {response}\\n\")"
   ]
  },
  {
   "cell_type": "code",
   "execution_count": 5,
   "metadata": {},
   "outputs": [
    {
     "name": "stdout",
     "output_type": "stream",
     "text": [
      "Result for Review 1: Yes.\n",
      "\n",
      "Result for Review 2: Yes.\n",
      "\n",
      "Result for Review 3: Yes.\n",
      "\n"
     ]
    }
   ],
   "source": [
    "for index, review in enumerate(reviews_iphone):\n",
    "    prompt = f\"\"\"\n",
    "    Please assess whether the following review text includes any comments or opinions about camera:\n",
    "\n",
    "    Respond just with a \"Yes\" if it does, or \"No\" if it does not. Nothing else.\n",
    "\n",
    "    Review text: '''{review}'''\n",
    "    \"\"\"\n",
    "    response = get_completion(prompt)\n",
    "    print(f\"Result for Review {index + 1}: {response}\\n\")"
   ]
  },
  {
   "cell_type": "code",
   "execution_count": 68,
   "metadata": {},
   "outputs": [
    {
     "name": "stdout",
     "output_type": "stream",
     "text": [
      "Battery score: 100\n",
      "Battery score: 80\n",
      "Battery score: 100\n",
      "Battery Quality Score IPHONE:  93.33 %\n"
     ]
    }
   ],
   "source": [
    "import re\n",
    "\n",
    "battery_scores = []\n",
    "\n",
    "for i, review in enumerate(reviews_iphone):\n",
    "    prompt = f\"\"\"\n",
    "    Evaluate the battery quality mentioned in the given review text on a scale from 0 to 100.\n",
    "    \n",
    "    Response format: Battery score: <score>\n",
    "\n",
    "    Review text: '{review}'\n",
    "    \"\"\"\n",
    "    response = get_completion(prompt)\n",
    "    print(response)\n",
    "\n",
    "    match = re.search(r'\\d+', response)\n",
    "    \n",
    "    if match:\n",
    "        score = float(match.group())\n",
    "        if score != 0:\n",
    "            battery_scores.append(score)\n",
    "    else:\n",
    "        battery_scores.append('Not Applicable')\n",
    "\n",
    "if len(battery_scores) > 0:\n",
    "    aux = sum(battery_scores) / len(battery_scores)\n",
    "    aux = round(aux,2)\n",
    "    battery.append(str(aux))\n",
    "else:\n",
    "    battery.append(\"No reviews about the battery found.\")\n",
    "\n",
    "print(\"Battery Quality Score IPHONE: \", battery[1], \"%\")"
   ]
  },
  {
   "cell_type": "code",
   "execution_count": 55,
   "metadata": {},
   "outputs": [
    {
     "name": "stdout",
     "output_type": "stream",
     "text": [
      "Camera score: 90\n",
      "Camera score: 80\n",
      "Camera score: 80\n",
      "Camera Quality Score IPHONE:  83.33 %\n"
     ]
    }
   ],
   "source": [
    "import re\n",
    "\n",
    "camera_scores = []\n",
    "\n",
    "for i, review in enumerate(reviews_iphone):\n",
    "    prompt = f\"\"\"\n",
    "    Considering the given product review, evaluate the user's opinion of the camera on a scale from 0 to 100.\n",
    "    Response format: Camera score: <score>\n",
    "\n",
    "    Review text: '{review}'\n",
    "    \"\"\"\n",
    "    response = get_completion(prompt)\n",
    "    print(response)\n",
    "\n",
    "    match = re.search(r'\\d+', response)\n",
    "    \n",
    "    if match:\n",
    "        score = float(match.group())\n",
    "        if score != 0:\n",
    "            camera_scores.append(score)\n",
    "    else:\n",
    "        continue\n",
    "\n",
    "if len(camera_scores) > 0:\n",
    "    aux = sum(camera_scores) / len(camera_scores)\n",
    "    aux = round(aux,2)\n",
    "    camera.append(str(aux))\n",
    "else:\n",
    "    camera.append(\"No reviews about the camera found.\")\n",
    "\n",
    "print(\"Camera Quality Score IPHONE: \", camera[1], \"%\")"
   ]
  },
  {
   "attachments": {},
   "cell_type": "markdown",
   "metadata": {},
   "source": [
    "# Oneplus"
   ]
  },
  {
   "cell_type": "code",
   "execution_count": 79,
   "metadata": {},
   "outputs": [
    {
     "name": "stdout",
     "output_type": "stream",
     "text": [
      "Review 1 : No \n",
      "\n",
      "Review 2 : No \n",
      "\n",
      "Review 3 : Yes \n",
      "\n"
     ]
    }
   ],
   "source": [
    "for i in range(len(reviews_oneplus)):\n",
    "    prompt = f\"\"\"\n",
    "    Is there an opinion about batteries in each of the following reviews?\n",
    "\n",
    "    Give your answer as a single word, either \"Yes\" \\\n",
    "    or \"No\". \n",
    "\n",
    "    Review text: '''{reviews_oneplus[i]}'''\n",
    "    \"\"\"\n",
    "    response = get_completion(prompt)\n",
    "    print(\"Review\", i+1, \":\", response, \"\\n\")"
   ]
  },
  {
   "cell_type": "code",
   "execution_count": 81,
   "metadata": {},
   "outputs": [
    {
     "name": "stdout",
     "output_type": "stream",
     "text": [
      "Review 1 : No \n",
      "\n",
      "Review 2 : Yes \n",
      "\n",
      "Review 3 : Yes \n",
      "\n"
     ]
    }
   ],
   "source": [
    "for i in range(len(reviews_oneplus)):\n",
    "    prompt = f\"\"\"\n",
    "    Is there an opinion about camera in each of the following reviews?\n",
    "\n",
    "    Give your answer as a single word, either \"Yes\" \\\n",
    "    or \"No\". \n",
    "\n",
    "    Review text: '''{reviews_oneplus[i]}'''\n",
    "    \"\"\"\n",
    "    response = get_completion(prompt)\n",
    "    print(\"Review\", i+1, \":\", response, \"\\n\")"
   ]
  },
  {
   "cell_type": "code",
   "execution_count": 66,
   "metadata": {},
   "outputs": [
    {
     "name": "stdout",
     "output_type": "stream",
     "text": [
      "Battery score: Not Applicable\n",
      "Battery score: Not Applicable\n",
      "Battery score: 60\n",
      "Battery Quality Score ONEPLUS:  60.0 %\n"
     ]
    }
   ],
   "source": [
    "battery_scores = []\n",
    "\n",
    "for i, review in enumerate(reviews_oneplus):\n",
    "    prompt = f\"\"\"\n",
    "    Evaluate the battery quality mentioned in the given review text on a scale from 0 to 100.\n",
    "    \n",
    "    Response format: Battery score: <score>\n",
    "\n",
    "    Review text: '{review}'\n",
    "    \"\"\"\n",
    "    response = get_completion(prompt)\n",
    "    print(response)\n",
    "\n",
    "    match = re.search(r'\\d+', response)\n",
    "    \n",
    "    if match:\n",
    "        score = float(match.group())\n",
    "        if score != 0:\n",
    "            battery_scores.append(score)\n",
    "    else:\n",
    "        continue\n",
    "\n",
    "if len(battery_scores) > 0:\n",
    "    aux = sum(battery_scores) / len(battery_scores)\n",
    "    aux = round(aux,2)\n",
    "    battery.append(str(aux))\n",
    "else:\n",
    "    battery.append(\"No reviews about the battery found.\")\n",
    "\n",
    "print(\"Battery Quality Score ONEPLUS: \", battery[2], \"%\")"
   ]
  },
  {
   "cell_type": "code",
   "execution_count": 56,
   "metadata": {},
   "outputs": [
    {
     "name": "stdout",
     "output_type": "stream",
     "text": [
      "Camera score: 0 (The review does not mention anything about the camera, so it cannot be evaluated.)\n",
      "Camera score: 50\n",
      "Camera score: 30\n",
      "Camera Quality Score ONEPLUS:  26.67 %\n"
     ]
    }
   ],
   "source": [
    "camera_scores = []\n",
    "\n",
    "for i, review in enumerate(reviews_oneplus):\n",
    "    prompt = f\"\"\"\n",
    "    Considering the given product review, evaluate the user's opinion of the camera on a scale from 0 to 100.\n",
    "    Response format: Camera score: <score>\n",
    "\n",
    "    Review text: '{review}'\n",
    "    \"\"\"\n",
    "    response = get_completion(prompt)\n",
    "    print(response)\n",
    "\n",
    "    match = re.search(r'\\d+', response)\n",
    "    \n",
    "    if match:\n",
    "        score = float(match.group())\n",
    "        camera_scores.append(score)\n",
    "    else:\n",
    "        continue\n",
    "\n",
    "if len(camera_scores) > 0:\n",
    "    aux = sum(camera_scores) / len(camera_scores)\n",
    "    aux = round(aux,2)\n",
    "    camera.append(str(aux))\n",
    "else:\n",
    "    camera.append(\"No reviews about the camera found.\")\n",
    "\n",
    "print(\"Camera Quality Score ONEPLUS: \", camera[2], \"%\")"
   ]
  },
  {
   "attachments": {},
   "cell_type": "markdown",
   "metadata": {},
   "source": [
    "# FILTRAGEM POR CATEGORIAS"
   ]
  },
  {
   "attachments": {},
   "cell_type": "markdown",
   "metadata": {},
   "source": [
    "# BATERIA"
   ]
  },
  {
   "cell_type": "code",
   "execution_count": 67,
   "metadata": {},
   "outputs": [
    {
     "name": "stdout",
     "output_type": "stream",
     "text": [
      "Mobile phones sorted by battery quality according to reviews:\n",
      "IPHONE: 93.33 %\n",
      "PIXEL: 82.5 %\n",
      "ONEPLUS: 60.0 %\n"
     ]
    }
   ],
   "source": [
    "print(\"Mobile phones sorted by battery quality according to reviews:\")\n",
    "\n",
    "battery = [float(valor) for valor in battery]\n",
    "\n",
    "smartphone = {\"PIXEL\": battery[0], \"IPHONE\" : battery[1], \"ONEPLUS\": battery[2]}\n",
    "\n",
    "smartphone = dict(sorted(smartphone.items(), key=lambda item: item[1], reverse=True))\n",
    "\n",
    "for key, value in smartphone.items():\n",
    "    print(f\"{key}: {value}\", \"%\")\n"
   ]
  },
  {
   "attachments": {},
   "cell_type": "markdown",
   "metadata": {},
   "source": [
    "# CAMERA"
   ]
  },
  {
   "cell_type": "code",
   "execution_count": 62,
   "metadata": {},
   "outputs": [
    {
     "name": "stdout",
     "output_type": "stream",
     "text": [
      "Mobile phones sorted by camera quality according to reviews:\n",
      "IPHONE: 83.33 %\n",
      "PIXEL: 65.0 %\n",
      "ONEPLUS: 26.67 %\n"
     ]
    }
   ],
   "source": [
    "print(\"Mobile phones sorted by camera quality according to reviews:\")\n",
    "\n",
    "camera = [float(valor) for valor in camera]\n",
    "\n",
    "smartphone = {\"PIXEL\": camera[0], \"IPHONE\" : camera[1], \"ONEPLUS\": camera[2]}\n",
    "\n",
    "smartphone = dict(sorted(smartphone.items(), key=lambda item: item[1], reverse=True))\n",
    "\n",
    "for key, value in smartphone.items():\n",
    "    print(f\"{key}: {value}\", \"%\")\n"
   ]
  }
 ],
 "metadata": {
  "kernelspec": {
   "display_name": "Python 3",
   "language": "python",
   "name": "python3"
  },
  "language_info": {
   "codemirror_mode": {
    "name": "ipython",
    "version": 3
   },
   "file_extension": ".py",
   "mimetype": "text/x-python",
   "name": "python",
   "nbconvert_exporter": "python",
   "pygments_lexer": "ipython3",
   "version": "3.11.3"
  },
  "orig_nbformat": 4
 },
 "nbformat": 4,
 "nbformat_minor": 2
}
