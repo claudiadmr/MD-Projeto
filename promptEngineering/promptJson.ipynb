{
 "cells": [
  {
   "cell_type": "code",
   "execution_count": 64,
   "metadata": {},
   "outputs": [],
   "source": [
    "import openai\n",
    "import os\n",
    "\n",
    "openai.api_key  = '....'\n",
    "\n",
    "def get_completion(prompt, model=\"gpt-3.5-turbo\"):\n",
    "    messages = [{\"role\": \"user\", \"content\": prompt}]\n",
    "    response = openai.ChatCompletion.create(\n",
    "        model=model,\n",
    "        messages=messages,\n",
    "        temperature=0,\n",
    "    )\n",
    "    return response.choices[0].message[\"content\"]"
   ]
  },
  {
   "cell_type": "code",
   "execution_count": 61,
   "metadata": {},
   "outputs": [],
   "source": [
    "import json\n",
    "\n",
    "json_file = \"JSON.json\"\n",
    "\n",
    "with open(json_file, \"r\") as file:\n",
    "    data = json.load(file)\n",
    "\n",
    "reviews = data[0]\n"
   ]
  },
  {
   "cell_type": "code",
   "execution_count": 62,
   "metadata": {},
   "outputs": [
    {
     "name": "stdout",
     "output_type": "stream",
     "text": [
      "Review : liked, annoyed, happy, stressed, meh \n",
      "\n"
     ]
    }
   ],
   "source": [
    "vector = []\n",
    "\n",
    "for i, review in enumerate(reviews):\n",
    "\n",
    "    text = review[\"body\"]\n",
    "\n",
    "    vector.append(text)\n",
    "\n",
    "prompt = f\"\"\"\n",
    "\n",
    "Identify a list of emotions that the writer of the \\\n",
    "following review is expressing. Include no more than \\\n",
    "five items in the list. Format your answer as a list of \\\n",
    "lower-case words separated by commas.\n",
    "\n",
    "Review text: '''{vector}'''\n",
    "\"\"\"\n",
    "response = get_completion(prompt)\n",
    "print(\"Review\", \":\", response, \"\\n\")"
   ]
  },
  {
   "cell_type": "code",
   "execution_count": 70,
   "metadata": {},
   "outputs": [
    {
     "name": "stdout",
     "output_type": "stream",
     "text": [
      "Topic modeling analysis of the reviews suggests that the feedback can be categorized into the following features of the product:\n",
      "\n",
      "1. Size and Form Factor: Several reviews mention the size and form factor of the phone, with some users finding it too big and difficult to use with one hand. Others appreciate the phone's fit in the hand and pocket.\n",
      "\n",
      "2. Battery Life: Many users praise the phone's battery life, with some reporting that they haven't charged their phone in several days.\n",
      "\n",
      "3. Performance: Users generally appreciate the phone's performance, with many describing it as smooth and fast.\n",
      "\n",
      "4. Camera: The camera is mentioned positively in several reviews, with some users describing it as \"awesome.\"\n",
      "\n",
      "5. Fingerprint Sensor: Some users report issues with the fingerprint sensor, with one review stating that it takes a few weeks to get used to and is far from the best on the market.\n",
      "\n",
      "6. Slippery Back and Sides: Several reviews mention that the phone's back and sides are slippery, making it difficult to hold and prone to sliding off surfaces.\n",
      "\n",
      "7. Screen Calibration: One review mentions that the screen is poorly calibrated, with a yellow tint and difficulty displaying true white and sky blue.\n",
      "\n",
      "8. SIM Card Holder: One review reports difficulty removing the SIM card holder from the phone.\n",
      "\n",
      "9. Wireless Charging: Several reviews mention that wireless charging works well.\n",
      "\n",
      "10. Value for Money: Many users appreciate the phone's value for money, with one review stating that it is \"BY FAR the best you could purchase.\"\n",
      "\n",
      "11. Operating System: Several reviews mention the phone's operating system, with some users describing it as \"very apple-like\" and others appreciating the freedom it provides compared to Apple devices.\n",
      "\n",
      "12. Reception: One review mentions that the phone's reception is good, with LTE available in an area where the user's previous phone only had H+.\n",
      "\n",
      "13. Defective Phone: One review reports that the phone stopped working after less than 24 hours of use, with the IMEI number disappearing from the phone and the operating system becoming corrupted.\n",
      "\n",
      "Overall, the reviews suggest that the Google Pixel 7 has several positive features, including good battery life, smooth performance, and a good camera. However, some users report issues with the phone's size, fingerprint sensor, and slippery back and sides. \n",
      "\n"
     ]
    }
   ],
   "source": [
    "vector = []\n",
    "\n",
    "for i, review in enumerate(reviews):\n",
    "\n",
    "    text = review[\"body\"]\n",
    "\n",
    "    vector.append(text)\n",
    "\n",
    "prompt = f\"\"\"\n",
    "\n",
    "Analyze the following collection of reviews and employ topic modeling techniques to categorize the feedback into specific features of the product.\n",
    "\n",
    "Review text: '''{vector}'''\n",
    "\"\"\"\n",
    "response = get_completion(prompt)\n",
    "print(response, \"\\n\")"
   ]
  }
 ],
 "metadata": {
  "kernelspec": {
   "display_name": "Python 3",
   "language": "python",
   "name": "python3"
  },
  "language_info": {
   "codemirror_mode": {
    "name": "ipython",
    "version": 3
   },
   "file_extension": ".py",
   "mimetype": "text/x-python",
   "name": "python",
   "nbconvert_exporter": "python",
   "pygments_lexer": "ipython3",
   "version": "3.11.3"
  },
  "orig_nbformat": 4
 },
 "nbformat": 4,
 "nbformat_minor": 2
}
