{
 "cells": [
  {
   "cell_type": "code",
   "execution_count": 26,
   "metadata": {},
   "outputs": [],
   "source": [
    "import openai\n",
    "import os\n",
    "\n",
    "openai.api_key  = 'chave...'\n",
    "\n",
    "def get_completion(prompt, model=\"gpt-3.5-turbo\"):\n",
    "    messages = [{\"role\": \"user\", \"content\": prompt}]\n",
    "    response = openai.ChatCompletion.create(\n",
    "        model=model,\n",
    "        messages=messages,\n",
    "        temperature=0,\n",
    "    )\n",
    "    return response.choices[0].message[\"content\"]"
   ]
  },
  {
   "cell_type": "code",
   "execution_count": 27,
   "metadata": {},
   "outputs": [],
   "source": [
    "import json\n",
    "\n",
    "cameras = [\"camera1\", \"camera2\", \"camera3\"]\n",
    "reviews_files = {\n",
    "    \"camera1\": \"JSON.json\"\n",
    "}\n",
    "\n",
    "camera = cameras[0]\n",
    "json_file = reviews_files[camera]\n",
    "\n",
    "with open(json_file, \"r\") as file:\n",
    "    data = json.load(file)\n",
    "\n",
    "reviews = data[0]\n"
   ]
  },
  {
   "cell_type": "code",
   "execution_count": 32,
   "metadata": {},
   "outputs": [
    {
     "name": "stdout",
     "output_type": "stream",
     "text": [
      "Review 1 : positive \n",
      "\n",
      "Review 2 : positive \n",
      "\n",
      "Review 3 : positive \n",
      "\n"
     ]
    }
   ],
   "source": [
    "for i, review in enumerate(reviews):\n",
    "\n",
    "    text = review[\"body\"]\n",
    "\n",
    "    prompt = f\"\"\"\n",
    "    What is the sentiment of the following product review, \n",
    "    which is delimited with triple backticks?\n",
    "\n",
    "    Give your answer as a single word, either \"positive\" \\\n",
    "    or \"negative\". \n",
    "\n",
    "    Review text: '''{text}'''\n",
    "    \"\"\"\n",
    "    response = get_completion(prompt)\n",
    "    print(\"Review\", i+1, \":\", response, \"\\n\")"
   ]
  },
  {
   "cell_type": "code",
   "execution_count": 33,
   "metadata": {},
   "outputs": [
    {
     "name": "stdout",
     "output_type": "stream",
     "text": [
      "Review 1 : revelation, stunning, love, awesome, knocks spots of \n",
      "\n",
      "Review 2 : satisfied, impressed, surprised, content, happy \n",
      "\n",
      "Review 3 : love, excitement, satisfaction, preference, criticism \n",
      "\n"
     ]
    }
   ],
   "source": [
    "for i, review in enumerate(reviews):\n",
    "\n",
    "    text = review[\"body\"]\n",
    "\n",
    "    prompt = f\"\"\"\n",
    "    \n",
    "    Identify a list of emotions that the writer of the \\\n",
    "    following review is expressing. Include no more than \\\n",
    "    five items in the list. Format your answer as a list of \\\n",
    "    lower-case words separated by commas.\n",
    "\n",
    "    Review text: '''{text}'''\n",
    "    \"\"\"\n",
    "    response = get_completion(prompt)\n",
    "    print(\"Review\", i+1, \":\", response, \"\\n\")"
   ]
  },
  {
   "cell_type": "code",
   "execution_count": 34,
   "metadata": {},
   "outputs": [
    {
     "name": "stdout",
     "output_type": "stream",
     "text": [
      "Camera quality score: 90\n",
      "Camera quality score: 90\n",
      "Camera quality score: 85\n",
      "Quality Score:  88.33 %\n"
     ]
    }
   ],
   "source": [
    "import re\n",
    "\n",
    "quality = []\n",
    "\n",
    "quality_scores = []\n",
    "\n",
    "for i, review in enumerate(reviews):\n",
    "\n",
    "    text = review[\"body\"]\n",
    "\n",
    "    prompt = f\"\"\"\n",
    "    Evaluate the camera quality mentioned in the given review text on a scale from 0 to 100.\n",
    "    \n",
    "    Response format: Camera quality score: <score>\n",
    "\n",
    "    Review text: '{text}'\n",
    "    \"\"\"\n",
    "    response = get_completion(prompt)\n",
    "    print(response)\n",
    "\n",
    "    match = re.search(r'\\d+', response)\n",
    "    \n",
    "    if match:\n",
    "        score = float(match.group())\n",
    "        if score != 0:\n",
    "            quality_scores.append(score)\n",
    "    else:\n",
    "        continue\n",
    "\n",
    "if len(quality_scores) > 0:\n",
    "    aux = sum(quality_scores) / len(quality_scores)\n",
    "    aux = round(aux,2)\n",
    "    quality.append(str(aux))\n",
    "else:\n",
    "    quality.append(\"No reviews about the camera quality found.\")\n",
    "\n",
    "print(\"Quality Score: \", quality[0], \"%\")"
   ]
  }
 ],
 "metadata": {
  "kernelspec": {
   "display_name": "Python 3",
   "language": "python",
   "name": "python3"
  },
  "language_info": {
   "codemirror_mode": {
    "name": "ipython",
    "version": 3
   },
   "file_extension": ".py",
   "mimetype": "text/x-python",
   "name": "python",
   "nbconvert_exporter": "python",
   "pygments_lexer": "ipython3",
   "version": "3.11.3"
  },
  "orig_nbformat": 4
 },
 "nbformat": 4,
 "nbformat_minor": 2
}
