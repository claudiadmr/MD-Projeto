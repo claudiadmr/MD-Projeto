{
 "cells": [
  {
   "cell_type": "code",
   "execution_count": 47,
   "metadata": {},
   "outputs": [
    {
     "name": "stdout",
     "output_type": "stream",
     "text": [
      "getting page 1\n",
      "b'<!--\\n        To discuss automated access to Amazon data please contact api-services-support@amazon.com.\\n        For information about migrating to our APIs refer to our Marketplace APIs at https://developer.amazonservices.co.uk/ref=rm_5_sv, or our Product Advertising API at https://affiliate-program.amazon.co.uk/gp/advertising/api/detail/main.html/ref=rm_5_ac for advertising use cases.\\n-->\\n\\n<html>\\n<head>\\n<title>503 - Service Unavailable Error</title>\\n</head>\\n<body bgcolor=\"#FFFFFF\" text=\"#000000\">\\n<center>\\n<a href=\"https://www.amazon.co.uk/ref=cs_503_logo/\">\\n<img src=\"https://images-eu.ssl-images-amazon.com/images/G/02/uk-shared/logos/smile-amazon-logo-200x45.gif\" width=200 height=45 alt=\"Amazon.co.uk\" border=0></a>\\n<p align=center>\\n<font face=\"Verdana,Arial,Helvetica\">\\n<font size=\"+2\" color=\"#CC6600\"><b>We\\'re sorry</b></font><br>\\n<b>An error occurred when we tried to process your request.<br>We\\'re working on the problem and expect to resolve it shortly. Please note that if you were trying to place an order, it will not have been processed at this time. Please try again later.\\n<br><br>We apologise for the inconvenience.</b><p>\\n\\n<img src=\"https://images-eu.ssl-images-amazon.com/images/G/02/x-locale/common/orange-arrow.gif\" width=10 height=9 border=0 alt=\"*\">\\n<b><a href=\"https://www.amazon.co.uk/ref=cs_503_link/\">Click here to return to the Amazon.co.uk home page</a></b>\\n</font>\\n\\n</center>\\n</body>\\n</html>\\n'\n",
      "[]\n",
      "no more pages\n",
      "B0779B2K8B\n"
     ]
    }
   ],
   "source": [
    "import requests\n",
    "import time\n",
    "import json\n",
    "from bs4 import BeautifulSoup\n",
    "\n",
    "\n",
    "class Reviews:\n",
    "    def __init__(self, asin, api_key):\n",
    "        self.asin = asin\n",
    "        self.api_key = api_key\n",
    "        self.url = f'https://www.amazon.co.uk/product-reviews/{self.asin}/ref_cm_cr_dp_d_show_all_btm?ie=UTF8&reviewerType=all_reviews&sortBy=recent&pageNumber='\n",
    "        self.session = requests.Session()\n",
    "\n",
    "    def pagination(self, page):\n",
    "        r = self.session.get(self.url + str(page))\n",
    "        print(r.content)\n",
    "        soup = BeautifulSoup(r.content, 'html.parser')\n",
    "        reviews = soup.find_all('div', {'data-hook': 'review'})\n",
    "\n",
    "        print(reviews)\n",
    "\n",
    "        if not reviews:\n",
    "            return False\n",
    "        else:\n",
    "            return reviews\n",
    "\n",
    "    def parse(self, reviews):\n",
    "        total = []\n",
    "        for review in reviews:\n",
    "            title_tag = review.find('a', {'data-hook': 'review-title'})\n",
    "            rating_tag = review.find('i', {'data-hook': 'review-star-rating'})        \n",
    "            body = review.find('span', {'data-hook': 'review-body'}).text.strip()\n",
    "\n",
    "            data={\n",
    "                'title': title,\n",
    "                'rating': rating,\n",
    "                'body': body\n",
    "            }\n",
    "            total.append(data)\n",
    "        return total\n",
    "\n",
    "\n",
    "    def save_json(self,results):\n",
    "        print(self.asin)\n",
    "        with open(self.asin + '-reviews_2.json','w') as f:\n",
    "            json.dump(results, f)\n",
    "\n",
    "\n",
    "if __name__ == '__main__':\n",
    "    amz = Reviews('B0779B2K8B','3b6f4302905ab33a4947ce49b03f7a77')\n",
    "    results = []\n",
    "    for x in range(1,5):\n",
    "        print('getting page',x)\n",
    "        time.sleep(0.3) \n",
    "        reviews = amz.pagination(x)\n",
    "        if reviews is not False:\n",
    "            results.append(amz.parse(reviews))\n",
    "        else:\n",
    "            print('no more pages')\n",
    "            break\n",
    "\n",
    "    amz.save_json(results)\n"
   ]
  }
 ],
 "metadata": {
  "kernelspec": {
   "display_name": "Python 3",
   "language": "python",
   "name": "python3"
  },
  "language_info": {
   "codemirror_mode": {
    "name": "ipython",
    "version": 3
   },
   "file_extension": ".py",
   "mimetype": "text/x-python",
   "name": "python",
   "nbconvert_exporter": "python",
   "pygments_lexer": "ipython3",
   "version": "3.11.0"
  },
  "orig_nbformat": 4
 },
 "nbformat": 4,
 "nbformat_minor": 2
}
