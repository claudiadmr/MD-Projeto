{
 "cells": [
  {
   "cell_type": "code",
   "execution_count": null,
   "metadata": {},
   "outputs": [],
   "source": [
    "from requests_html import HTMLSession\n",
    "import json\n",
    "import time\n",
    "import random\n",
    "import pandas as pd"
   ]
  },
  {
   "cell_type": "code",
   "execution_count": 48,
   "metadata": {},
   "outputs": [
    {
     "name": "stdout",
     "output_type": "stream",
     "text": [
      "Mozilla/5.0 (Macintosh; Intel Mac OS X 13_1) AppleWebKit/605.1.15 (KHTML, like Gecko) Version/16.1 Safari/605.1.15\n",
      "getting page 1\n",
      "Mozilla/5.0 (Macintosh; Intel Mac OS X 10_15_7) AppleWebKit/537.36 (KHTML, like Gecko) Chrome/108.0.0.0 Safari/537.36\n",
      "getting page 2\n",
      "no more pages\n",
      "B0779B2K8B\n"
     ]
    },
    {
     "data": {
      "text/plain": [
       "\"\\nif __name__ == '__main__':\\n    amz = Reviews('B0779B2K8B')\\n    reviews = amz.pagination(1)\\n    print(reviews)\\n\""
      ]
     },
     "execution_count": 48,
     "metadata": {},
     "output_type": "execute_result"
    }
   ],
   "source": [
    "class Reviews:\n",
    "    def __init__(self, asin) -> None:\n",
    "\n",
    "        user_agent_list = [ \n",
    "\t    'Mozilla/5.0 (Windows NT 10.0; Win64; x64) AppleWebKit/537.36 (KHTML, like Gecko) Chrome/109.0.0.0 Safari/537.36', \n",
    "\t    'Mozilla/5.0 (Macintosh; Intel Mac OS X 10_15_7) AppleWebKit/537.36 (KHTML, like Gecko) Chrome/108.0.0.0 Safari/537.36', \n",
    "\t    'Mozilla/5.0 (Macintosh; Intel Mac OS X 13_1) AppleWebKit/605.1.15 (KHTML, like Gecko) Version/16.1 Safari/605.1.15', ]\n",
    "\n",
    "        user_agent = random.choice(user_agent_list)\n",
    "        self.asin = asin\n",
    "        self.session = HTMLSession()\n",
    "        self.headers = {'User-Agent': user_agent}\n",
    "        self.url = f'https://www.amazon.co.uk/product-reviews/{self.asin}/ref_cm_cr_dp_d_show_all_btm?ie=UTF8&reviewerType=all_reviews&sortBy=recent&pageNumber='\n",
    "\n",
    "    def pagination(self, page):\n",
    "        r = self.session.get(self.url + str(page))\n",
    "        \n",
    "        if not r.html.find('div[data-hook=review]') :\n",
    "            return False\n",
    "        else:\n",
    "            return r.html.find('div[data-hook=review]')\n",
    "\n",
    "    def parse(self, reviews):\n",
    "        total = []\n",
    "        for review in reviews:\n",
    "            title = review.find('a[data-hook=review-title]',first=True).text\n",
    "            rating = review.find('i[data-hook=review-star-rating] span',first=True).text\n",
    "            body = review.find('span[data-hook=review-body] span',first=True).text.replace('\\n','').strip()\n",
    "\n",
    "            data={\n",
    "                'title': title,\n",
    "                'rating': rating,\n",
    "                'body': body\n",
    "            }\n",
    "            total.append(data)\n",
    "        return total\n",
    "\n",
    "    def save_json(self,results):\n",
    "        print(self.asin)\n",
    "        with open(self.asin + '-reviews_2.json','w') as f:\n",
    "            json.dump(results, f)\n",
    "\n",
    "\n",
    "if __name__ == '__main__':\n",
    "    amz = Reviews('B0779B2K8B')\n",
    "    results = []\n",
    "    for x in range(1,5):\n",
    "        print('getting page',x)\n",
    "        time.sleep(0.3) \n",
    "        reviews = amz.pagination(x)\n",
    "        if reviews is not False:\n",
    "            results.append(amz.parse(reviews))\n",
    "        else:\n",
    "            print('no more pages')\n",
    "            break\n",
    "\n",
    "    amz.save_json(results)\n",
    "\n",
    "\n",
    "'''\n",
    "if __name__ == '__main__':\n",
    "    amz = Reviews('B0779B2K8B')\n",
    "    reviews = amz.pagination(1)\n",
    "    print(reviews)\n",
    "'''\n",
    "\n",
    "\n"
   ]
  }
 ],
 "metadata": {
  "kernelspec": {
   "display_name": "Python 3",
   "language": "python",
   "name": "python3"
  },
  "language_info": {
   "codemirror_mode": {
    "name": "ipython",
    "version": 3
   },
   "file_extension": ".py",
   "mimetype": "text/x-python",
   "name": "python",
   "nbconvert_exporter": "python",
   "pygments_lexer": "ipython3",
   "version": "3.11.0"
  },
  "orig_nbformat": 4
 },
 "nbformat": 4,
 "nbformat_minor": 2
}
